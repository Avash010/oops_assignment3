{
 "cells": [
  {
   "cell_type": "markdown",
   "id": "8e0ff621-446e-4a43-98c2-65d71f5f0744",
   "metadata": {},
   "source": [
    "## Q1. What is Abstraction in OOps? Explain with an example."
   ]
  },
  {
   "cell_type": "code",
   "execution_count": 1,
   "id": "2e40bd42-afe9-4512-be80-0944f2a7165a",
   "metadata": {},
   "outputs": [],
   "source": [
    "# Abstraction is the process of hiding the internal details of an application from the outer world.\n",
    "# It provides a blueprint for derived classes, defining common attributes and behaviors that they must implement."
   ]
  },
  {
   "cell_type": "code",
   "execution_count": 2,
   "id": "244f967f-eb2b-41e7-85a6-e72ce5aa2ebf",
   "metadata": {},
   "outputs": [],
   "source": [
    "import abc                            \n",
    "\n",
    "class object:\n",
    "    \n",
    "    @abc.abstractmethod                \n",
    "    def area(self):\n",
    "        pass\n",
    "    \n",
    "    @abc.abstractmethod\n",
    "    def perimeter(self):\n",
    "        pass\n",
    "    \n",
    "# '@abc.abstractmethod' used for decorating blueprint"
   ]
  },
  {
   "cell_type": "code",
   "execution_count": 3,
   "id": "b3bcff79-9c50-4ebe-b751-a5cd7835fff4",
   "metadata": {},
   "outputs": [],
   "source": [
    "class rectangle(object):\n",
    "    \n",
    "    def __init__(self, length, width):\n",
    "        self.length = length\n",
    "        self.width = width\n",
    "        \n",
    "    def area(self):\n",
    "        return self.length*self.width\n",
    "    \n",
    "    def perimeter(self):\n",
    "        return 2*(self.length+self.width)\n",
    "    \n",
    "# here we create 'rectangle' class by inheriting skelleton 'object' class"
   ]
  },
  {
   "cell_type": "code",
   "execution_count": 4,
   "id": "f5d51c8c-9566-450c-be12-cdbd6c8b3ffc",
   "metadata": {},
   "outputs": [],
   "source": [
    "class square(object):\n",
    "    \n",
    "    def __init__(self, side):\n",
    "        self.side = side\n",
    "        \n",
    "    def area(self):\n",
    "        return self.side**2\n",
    "    \n",
    "    def perimeter(self):\n",
    "        return 4*self.side\n",
    "    \n",
    "# here we create 'square' class by inheriting skelleton 'object' class"
   ]
  },
  {
   "cell_type": "code",
   "execution_count": 5,
   "id": "052934dc-f717-467d-9936-819192f59a3a",
   "metadata": {},
   "outputs": [],
   "source": [
    "obj1 = rectangle(6,4)"
   ]
  },
  {
   "cell_type": "code",
   "execution_count": 6,
   "id": "f9ba2232-b2c5-4db4-9a15-9b0dc3a934a0",
   "metadata": {},
   "outputs": [
    {
     "data": {
      "text/plain": [
       "24"
      ]
     },
     "execution_count": 6,
     "metadata": {},
     "output_type": "execute_result"
    }
   ],
   "source": [
    "obj1.area()            #here 'obj1' will give properties of 'rectangle' class"
   ]
  },
  {
   "cell_type": "code",
   "execution_count": 7,
   "id": "f6e2f202-ecac-4737-8554-56a3bb1445ea",
   "metadata": {},
   "outputs": [
    {
     "data": {
      "text/plain": [
       "20"
      ]
     },
     "execution_count": 7,
     "metadata": {},
     "output_type": "execute_result"
    }
   ],
   "source": [
    "obj1.perimeter()"
   ]
  },
  {
   "cell_type": "code",
   "execution_count": 8,
   "id": "50e2e13d-3ab6-4739-8632-51632426336d",
   "metadata": {},
   "outputs": [],
   "source": [
    "obj2 = square(5)"
   ]
  },
  {
   "cell_type": "code",
   "execution_count": 9,
   "id": "69d13876-c2af-4844-b18d-2753d0121ec4",
   "metadata": {},
   "outputs": [
    {
     "data": {
      "text/plain": [
       "25"
      ]
     },
     "execution_count": 9,
     "metadata": {},
     "output_type": "execute_result"
    }
   ],
   "source": [
    "obj2.area()            #here 'obj2' will give properties of 'square' class"
   ]
  },
  {
   "cell_type": "code",
   "execution_count": 10,
   "id": "e8291db1-8c01-4344-8a8b-74f00bd06c67",
   "metadata": {},
   "outputs": [
    {
     "data": {
      "text/plain": [
       "20"
      ]
     },
     "execution_count": 10,
     "metadata": {},
     "output_type": "execute_result"
    }
   ],
   "source": [
    "obj2.perimeter()"
   ]
  },
  {
   "cell_type": "markdown",
   "id": "0285a291-ca14-459b-b123-40a77788248f",
   "metadata": {},
   "source": [
    "## Q2. Differentiate between Abstraction and Encapsulation. Explain with an example."
   ]
  },
  {
   "cell_type": "code",
   "execution_count": 1,
   "id": "ee31589f-3147-4917-b5d5-93fb298a2047",
   "metadata": {},
   "outputs": [],
   "source": [
    "# Abstraction hides the implementation details and show only the functionality to the user where as Encapsulation hides data & controls the visibility of the code.\n",
    "# We can achieve abstraction by using abstract classes & interfaces where as Encapsulation achieve by making data private & accessing them through public method."
   ]
  },
  {
   "cell_type": "code",
   "execution_count": 2,
   "id": "11286bba-82ca-40c7-83ea-cb14fd4d1218",
   "metadata": {},
   "outputs": [],
   "source": [
    "import abc                            \n",
    "\n",
    "class vehicle:\n",
    "        \n",
    "    @abc.abstractmethod\n",
    "    def vehicle_mode(self):\n",
    "        pass\n",
    "    \n",
    "    @abc.abstractmethod\n",
    "    def vehicle_seating_capacity(self):\n",
    "        pass\n",
    "    \n",
    "# '@abc.abstractmethod' used for decorating blueprint"
   ]
  },
  {
   "cell_type": "code",
   "execution_count": 3,
   "id": "800dc0e1-2f43-4f93-8d5e-79bdd634f212",
   "metadata": {},
   "outputs": [],
   "source": [
    "class car1(vehicle): \n",
    "    \n",
    "    def vehicle_mode(self):\n",
    "        return \"Car-1 is manual mode\"\n",
    "    \n",
    "    def vehicle_seating_capacity(self):\n",
    "        return \"Car-1 has seating capacity of 4\"\n",
    "    \n",
    "    def __init__(self, speed):\n",
    "        self.__speed = 0\n",
    "        \n",
    "    def set_speed(self,speed):     \n",
    "        self.__speed = 0 if speed < 0 else speed\n",
    "        \n",
    "    def get_speed(self):          \n",
    "        return self.__speed\n",
    "    \n",
    "# here we create 'car1' class by inheriting skelleton 'vehicle' class"
   ]
  },
  {
   "cell_type": "code",
   "execution_count": 4,
   "id": "3c73ccbf-3018-4cac-a8ca-f5945414ac86",
   "metadata": {},
   "outputs": [],
   "source": [
    "class car2(vehicle):  \n",
    "    \n",
    "    def vehicle_mode(self):\n",
    "        return \"Car-2 is automatic mode\"\n",
    "    \n",
    "    def vehicle_seating_capacity(self):\n",
    "        return \"Car-2 has seating capacity of 7\"\n",
    "    \n",
    "    def __init__(self, speed):\n",
    "        self.__speed = 0     \n",
    "        \n",
    "    def set_speed(self,speed):    \n",
    "        self.__speed = 0 if speed < 0 else speed\n",
    "        \n",
    "    def get_speed(self):           \n",
    "        return self.__speed\n",
    "    \n",
    "# here we create 'car2' class by inheriting skelleton 'vehicle' class"
   ]
  },
  {
   "cell_type": "code",
   "execution_count": 5,
   "id": "4f839a91-1ad0-44ad-916a-c3b84bb23fd8",
   "metadata": {},
   "outputs": [],
   "source": [
    "## here '__speed' is private variable encapsulated within car1 & car2 class."
   ]
  },
  {
   "cell_type": "code",
   "execution_count": 6,
   "id": "08721dad-014f-4018-bd83-df796bdc323d",
   "metadata": {},
   "outputs": [],
   "source": [
    "vehicle1 = car1(150)"
   ]
  },
  {
   "cell_type": "code",
   "execution_count": 7,
   "id": "f3c8bb52-f533-464c-85a4-7713cf577cce",
   "metadata": {},
   "outputs": [],
   "source": [
    "vehicle1.set_speed(180)   "
   ]
  },
  {
   "cell_type": "code",
   "execution_count": 8,
   "id": "d4652ce2-f089-402a-b99e-525820ba0a15",
   "metadata": {},
   "outputs": [
    {
     "data": {
      "text/plain": [
       "180"
      ]
     },
     "execution_count": 8,
     "metadata": {},
     "output_type": "execute_result"
    }
   ],
   "source": [
    "vehicle1.get_speed()    "
   ]
  },
  {
   "cell_type": "code",
   "execution_count": 9,
   "id": "09ac7c8f-c806-41bf-950e-108befb35544",
   "metadata": {},
   "outputs": [],
   "source": [
    "#here 'set_speed' & 'get__speed are not private, so user can aceess it"
   ]
  },
  {
   "cell_type": "code",
   "execution_count": 10,
   "id": "1511e997-7b3b-4f41-ab3a-db716a0e10f9",
   "metadata": {},
   "outputs": [
    {
     "data": {
      "text/plain": [
       "'Car-1 is manual mode'"
      ]
     },
     "execution_count": 10,
     "metadata": {},
     "output_type": "execute_result"
    }
   ],
   "source": [
    "vehicle1.vehicle_mode()            #here 'vehicle1' will give properties of 'car1' class"
   ]
  },
  {
   "cell_type": "code",
   "execution_count": 11,
   "id": "cfbdbbf1-3015-4671-9717-ed058fd66a08",
   "metadata": {},
   "outputs": [
    {
     "data": {
      "text/plain": [
       "'Car-1 has seating capacity of 4'"
      ]
     },
     "execution_count": 11,
     "metadata": {},
     "output_type": "execute_result"
    }
   ],
   "source": [
    "vehicle1.vehicle_seating_capacity()"
   ]
  },
  {
   "cell_type": "code",
   "execution_count": 12,
   "id": "d6056a51-1a4f-494a-8816-6b99a856c8c4",
   "metadata": {},
   "outputs": [],
   "source": [
    "vehicle2 = car2(125)"
   ]
  },
  {
   "cell_type": "code",
   "execution_count": 13,
   "id": "5835a6e4-592d-4233-9315-abf8d2230a44",
   "metadata": {},
   "outputs": [],
   "source": [
    "vehicle2.set_speed(150)"
   ]
  },
  {
   "cell_type": "code",
   "execution_count": 14,
   "id": "50531012-8220-4a98-8d4b-e0436dd5b5a8",
   "metadata": {},
   "outputs": [
    {
     "data": {
      "text/plain": [
       "150"
      ]
     },
     "execution_count": 14,
     "metadata": {},
     "output_type": "execute_result"
    }
   ],
   "source": [
    "vehicle2.get_speed()"
   ]
  },
  {
   "cell_type": "code",
   "execution_count": 15,
   "id": "6aeea668-2d6d-40c9-9da6-55b5e16c764e",
   "metadata": {},
   "outputs": [
    {
     "data": {
      "text/plain": [
       "'Car-2 is automatic mode'"
      ]
     },
     "execution_count": 15,
     "metadata": {},
     "output_type": "execute_result"
    }
   ],
   "source": [
    "vehicle2.vehicle_mode()     #here 'vehicle2' will give properties of 'car2' class"
   ]
  },
  {
   "cell_type": "code",
   "execution_count": 16,
   "id": "755436c5-338d-4cc0-ab17-005629f03797",
   "metadata": {},
   "outputs": [
    {
     "data": {
      "text/plain": [
       "'Car-2 has seating capacity of 7'"
      ]
     },
     "execution_count": 16,
     "metadata": {},
     "output_type": "execute_result"
    }
   ],
   "source": [
    "vehicle2.vehicle_seating_capacity()"
   ]
  },
  {
   "cell_type": "markdown",
   "id": "296b0f38-4f98-46d6-a48e-8c313b2eb322",
   "metadata": {},
   "source": [
    "## Q3. What is abc module in python? Why is it used?"
   ]
  },
  {
   "cell_type": "code",
   "execution_count": 1,
   "id": "2a6c37cb-652c-4faa-91df-fbaf45a8b839",
   "metadata": {},
   "outputs": [],
   "source": [
    "# abc module stands for Abstract Base Classes.\n",
    "# abc module provides the infrastructure for defining abstract base classes (ABCs) in Python.\n",
    "# It is used to define a common set of methods that subclasses should implemented by inheriting from an abstract class."
   ]
  },
  {
   "cell_type": "markdown",
   "id": "1153863a-3c90-4efb-9892-7b70f528dd60",
   "metadata": {},
   "source": [
    "## Q4. How can we achieve data abstraction?"
   ]
  },
  {
   "cell_type": "code",
   "execution_count": 1,
   "id": "2440bc68-6d92-4f90-b2cd-d7a3f39834f0",
   "metadata": {},
   "outputs": [],
   "source": [
    "# data abstraction can be achieved through the use of classes and objects, by creating abstract classes and inheriting them to create subclasses."
   ]
  },
  {
   "cell_type": "markdown",
   "id": "8f33cb88-2962-480c-b0fe-f140c74de05f",
   "metadata": {},
   "source": [
    "## Q5. Can we create an instance of an abstract class? Explain your answer."
   ]
  },
  {
   "cell_type": "code",
   "execution_count": 1,
   "id": "b29bf0d1-533f-41d3-b5d0-3ee9dfbb058e",
   "metadata": {},
   "outputs": [],
   "source": [
    "# No, we can't create an instance of an abstract class as abstract class isn't directly available in python.\n",
    "# We have to import 'abc' module for creating abstract classes & use 'abstractmethod' for creating blueprint"
   ]
  },
  {
   "cell_type": "code",
   "execution_count": 2,
   "id": "557747ac-005a-4f55-a120-05163950b891",
   "metadata": {},
   "outputs": [
    {
     "ename": "TypeError",
     "evalue": "Can't instantiate abstract class data_science with abstract methods student_id, student_name",
     "output_type": "error",
     "traceback": [
      "\u001b[0;31m---------------------------------------------------------------------------\u001b[0m",
      "\u001b[0;31mTypeError\u001b[0m                                 Traceback (most recent call last)",
      "Cell \u001b[0;32mIn[2], line 12\u001b[0m\n\u001b[1;32m      8\u001b[0m     \u001b[38;5;129m@abstractmethod\u001b[39m\n\u001b[1;32m      9\u001b[0m     \u001b[38;5;28;01mdef\u001b[39;00m \u001b[38;5;21mstudent_id\u001b[39m(\u001b[38;5;28mself\u001b[39m):\n\u001b[1;32m     10\u001b[0m         \u001b[38;5;28;01mpass\u001b[39;00m\n\u001b[0;32m---> 12\u001b[0m ds \u001b[38;5;241m=\u001b[39m \u001b[43mdata_science\u001b[49m\u001b[43m(\u001b[49m\u001b[43m)\u001b[49m\n\u001b[1;32m     13\u001b[0m \u001b[38;5;66;03m# As we try to create instance of abstract class, we got error\u001b[39;00m\n",
      "\u001b[0;31mTypeError\u001b[0m: Can't instantiate abstract class data_science with abstract methods student_id, student_name"
     ]
    }
   ],
   "source": [
    "from abc import ABC, abstractmethod\n",
    "\n",
    "class data_science(ABC):\n",
    "    @abstractmethod\n",
    "    def student_name(self):\n",
    "        pass\n",
    "    \n",
    "    @abstractmethod\n",
    "    def student_id(self):\n",
    "        pass\n",
    "\n",
    "ds = data_science()\n",
    "# As we try to create instance of abstract class, we got error"
   ]
  }
 ],
 "metadata": {
  "kernelspec": {
   "display_name": "Python 3 (ipykernel)",
   "language": "python",
   "name": "python3"
  },
  "language_info": {
   "codemirror_mode": {
    "name": "ipython",
    "version": 3
   },
   "file_extension": ".py",
   "mimetype": "text/x-python",
   "name": "python",
   "nbconvert_exporter": "python",
   "pygments_lexer": "ipython3",
   "version": "3.10.8"
  }
 },
 "nbformat": 4,
 "nbformat_minor": 5
}
